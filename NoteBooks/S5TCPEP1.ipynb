{
 "cells": [
  {
   "cell_type": "markdown",
   "metadata": {
    "id": "z7U8lp55qfdA"
   },
   "source": [
    "## Redes Convolucionales para reconocimiento de imágenes\n",
    "\n",
    "## Actividad calificada por el personal\n",
    "\n",
    "### Propósito \n",
    "\n",
    "En el laboratorio \"Implementación de Redes Convolucionales en Keras\" se propuso una implementación a través de *\"Keras\"* de una red convolucional para una base de datos que contiene imágenes de dígitos manuscritos. En este *notebook* se pretende evaluar el uso de *keras* al aplicar una red convolucional sobre un conjunto de imágenes más complejo, \"Fashion MNIST\". \n",
    "\n",
    "### Instrucciones generales\n",
    "\n",
    "1. Los procedimientos en el notebook deberán responderse en los espacios especificados para tal fin, debajo de cada uno de los puntos.\n",
    "\n",
    "2. Para que la actividad sea calificada, deberán subir únicamente este mismo archivo con la extensión \".ipynb\" a la actividad de \"entrega calificada por el personal\" correspondiente a este caso.\n",
    "\n",
    "3. El archivo que suban debe poder ejecutarse en una imagen de Coursera cuando sea evaluado por el tutor, asumiendo que la base de datos de la actividad ya ha sido importada en el correspondiente archivo separado por comas (.csv).\n",
    "\n",
    "### Criterios a evaluar\n",
    "\n",
    "Los criterios que se evaluarán son:\n",
    "\n",
    "Preparación de las variables: Se adaptan los datos apropiadamente para el uso de las funciones de `keras` y realiza la partición de la muestra en entrenamiento, validación y test. [15 puntos]\n",
    "\n",
    "Estimación de un modelo utilizando redes neuronales convolucionales: Se estima el modelo usando una CNN, se establecen los parámetros y estructuras apropiadamente, se evalúa en la muestra de test y se analizan correctamente los resultados y el procedimiento realizado. [45 puntos]\n",
    "\n",
    "Calidad de la predicción: La arquitectura implementada posee un buen desempeño entre el nivel de precisión obtenido y el tiempo de ejecución. Asegúrese de no implementar una red excesivamente profunda probándola en los servidores que ofrece la plataforma Coursera, pues con estos realizamos la calificaciónde su solución. [40 puntos]\n",
    "\n",
    "\n",
    "#### Problema\n",
    "\n",
    "Fashion-MNIST es una base de datos de imágenes de artículos de la tienda de ropa Zalando, que consta de un set de entrenamiento de 60000 muestras y un set de test de 10000 muestras. Cada dato es una imagen en escala de grises de una prenda de vestir, asociada con una etiqueta de 10 clases.\n",
    "\n",
    "Ustedes deben proponer el algoritmo para hacer la clasificación de las prendas con una red neuronal convolucional."
   ]
  },
  {
   "cell_type": "markdown",
   "metadata": {
    "id": "yQUTyauSqfdD"
   },
   "source": [
    "### Librerías a importar"
   ]
  },
  {
   "cell_type": "code",
   "execution_count": 1,
   "metadata": {
    "id": "b7FZBYtzqfdE",
    "tags": []
   },
   "outputs": [],
   "source": [
    "import numpy as np\n",
    "import matplotlib.pyplot as plt\n",
    "import os\n",
    "import keras\n",
    "from keras.datasets import fashion_mnist\n",
    "from keras.models import Sequential\n",
    "from keras.layers import Conv2D, MaxPooling2D, Flatten, Dense, Dropout, BatchNormalization\n",
    "from keras.utils import to_categorical\n",
    "from keras.optimizers import Adam\n",
    "from sklearn.model_selection import train_test_split\n",
    "\n",
    "#Las siguientes dos líneas evitan la generación de \"warnings\" y \"flags\" al importar keras y tensorflow.\n",
    "#Dichas advertencias no comprometen el funcionamiento del código.\n",
    "\n",
    "os.environ['TF_CPP_MIN_LOG_LEVEL'] = '3' \n",
    "#Importación de keras\n"
   ]
  },
  {
   "cell_type": "markdown",
   "metadata": {
    "id": "p6PQCLuOqfdF"
   },
   "source": [
    "### 1. Preparación de las variables (15 puntos)\n",
    "\n",
    "Adapte los datos apropiadamente para el uso de las funciones de `keras` y realiza la partición de la muestra en entrenamiento, validación y test."
   ]
  },
  {
   "cell_type": "code",
   "execution_count": 6,
   "metadata": {
    "id": "kCbBgdbcqfdF"
   },
   "outputs": [
    {
     "name": "stdout",
     "output_type": "stream",
     "text": [
      "Tamaño del conjunto de entrenamiento: (48000, 28, 28, 1)\n",
      "Tamaño del conjunto de validación: (12000, 28, 28, 1)\n",
      "Tamaño del conjunto de test: (10000, 28, 28, 1)\n"
     ]
    }
   ],
   "source": [
    "# Utilicen este espacio para escribir los códigos del procedimiento del punto 1 ####\n",
    "# 1 Cargar el dataset\n",
    "(train_images, train_labels), (test_images, test_labels) = fashion_mnist.load_data()\n",
    "\n",
    "# Normalizar los datos\n",
    "train_images = train_images.astype('float32') / 255.0\n",
    "test_images = test_images.astype('float32') / 255.0\n",
    "\n",
    "# shape en escala de grises\n",
    "train_images = train_images.reshape((-1, 28, 28, 1))\n",
    "test_images = test_images.reshape((-1, 28, 28, 1))\n",
    "\n",
    "# Etiquetas a categorías\n",
    "train_labels = to_categorical(train_labels, 10)\n",
    "test_labels = to_categorical(test_labels, 10)\n",
    "\n",
    "# entrenamiento y validación\n",
    "x_train, x_val, y_train, y_val = train_test_split(train_images, train_labels, test_size=0.2, random_state=42)\n",
    "\n",
    "\n",
    "print(\"Tamaño del conjunto de entrenamiento:\", x_train.shape)\n",
    "print(\"Tamaño del conjunto de validación:\", x_val.shape)\n",
    "print(\"Tamaño del conjunto de test:\", test_images.shape)"
   ]
  },
  {
   "cell_type": "markdown",
   "metadata": {
    "id": "vGBvlfJ4qfdF"
   },
   "source": [
    "(Utilicen este espacio para describir su procedimiento y escribir su análisis y conclusiones sobre el punto 1)\n",
    "\n",
    "- Se descargan los de datos de entrenamiento y prueba desde TensorFlow Keras Datasets utilizando el conjunto de datos Fashion MNIST, incluyendo imágenes y etiquetas.\n",
    "- Los datos de las imágenes se normalizan dividiendo por 255. \n",
    "- Las imágenes se reestructuran para ajustarse al formato de escala de grises requerido por Keras, con una dimensión adicional para el canal de color.\n",
    "- Las etiquetas se convierten en categorías para su uso en la clasificación.\n",
    "- Se dividen los datos en conjuntos de entrenamiento y validación y test, con un tamaño en entrenamiento de 48000, validación de 12000 y test de 10000.\n"
   ]
  },
  {
   "cell_type": "markdown",
   "metadata": {
    "id": "iV0E9KxbqfdG"
   },
   "source": [
    "### 2. Estimación de un modelo utilizando redes neuronales convolucionales (45 puntos)\n",
    "\n",
    "Estimen un modelo predictivo usando la muestra de entrenamiento y establezcan apropiadamente cada uno de los parámetros de la red."
   ]
  },
  {
   "cell_type": "code",
   "execution_count": 3,
   "metadata": {
    "id": "817ER4dgqfdG"
   },
   "outputs": [
    {
     "name": "stdout",
     "output_type": "stream",
     "text": [
      "Epoch 1/10\n",
      "750/750 [==============================] - 27s 34ms/step - loss: 0.6480 - accuracy: 0.7655 - val_loss: 0.4148 - val_accuracy: 0.8468\n",
      "Epoch 2/10\n",
      "750/750 [==============================] - 25s 33ms/step - loss: 0.4287 - accuracy: 0.8463 - val_loss: 0.3393 - val_accuracy: 0.8729\n",
      "Epoch 3/10\n",
      "750/750 [==============================] - 24s 32ms/step - loss: 0.3699 - accuracy: 0.8662 - val_loss: 0.3012 - val_accuracy: 0.8857\n",
      "Epoch 4/10\n",
      "750/750 [==============================] - 24s 33ms/step - loss: 0.3371 - accuracy: 0.8785 - val_loss: 0.2925 - val_accuracy: 0.8886\n",
      "Epoch 5/10\n",
      "750/750 [==============================] - 24s 32ms/step - loss: 0.3100 - accuracy: 0.8867 - val_loss: 0.2822 - val_accuracy: 0.8937\n",
      "Epoch 6/10\n",
      "750/750 [==============================] - 24s 32ms/step - loss: 0.2885 - accuracy: 0.8950 - val_loss: 0.2602 - val_accuracy: 0.9025\n",
      "Epoch 7/10\n",
      "750/750 [==============================] - 24s 32ms/step - loss: 0.2721 - accuracy: 0.9029 - val_loss: 0.2795 - val_accuracy: 0.8932\n",
      "Epoch 8/10\n",
      "750/750 [==============================] - 24s 32ms/step - loss: 0.2546 - accuracy: 0.9044 - val_loss: 0.2562 - val_accuracy: 0.9047\n",
      "Epoch 9/10\n",
      "750/750 [==============================] - 24s 32ms/step - loss: 0.2417 - accuracy: 0.9110 - val_loss: 0.2467 - val_accuracy: 0.9098\n",
      "Epoch 10/10\n",
      "750/750 [==============================] - 25s 33ms/step - loss: 0.2292 - accuracy: 0.9172 - val_loss: 0.2404 - val_accuracy: 0.9121\n",
      "313/313 [==============================] - 2s 6ms/step - loss: 0.2582 - accuracy: 0.9048\n",
      "Test accuracy: 0.9047999978065491\n"
     ]
    }
   ],
   "source": [
    "#### Utilicen este espacio para escribir los códigos del procedimiento del punto 2 ####\n",
    "model = Sequential([\n",
    "    Conv2D(32, (3,3), activation='relu', input_shape=(28, 28, 1)),\n",
    "    MaxPooling2D(2, 2),\n",
    "    Conv2D(64, (3,3), activation='relu'),\n",
    "    MaxPooling2D(2, 2),\n",
    "    Flatten(),\n",
    "    Dense(128, activation='relu'),\n",
    "    Dropout(0.5),\n",
    "    Dense(10, activation='softmax')\n",
    "])\n",
    "model.compile(optimizer='adam', loss='categorical_crossentropy', metrics=['accuracy'])\n",
    "history = model.fit(train_images, train_labels, epochs=10, validation_split=0.2, batch_size=64)\n",
    "test_loss, test_acc = model.evaluate(test_images, test_labels)\n",
    "print('Test accuracy:', test_acc)"
   ]
  },
  {
   "cell_type": "markdown",
   "metadata": {
    "id": "qMsXnV_tqfdG"
   },
   "source": [
    "(Utilicen este espacio para describir su procedimiento y escribir su análisis y conclusiones sobre el punto 2)\n",
    "\n",
    "En este punto se implementó una red neuronal convolucional con las siguientes carácteristicas:\n",
    "- Dos capas convolucionales de activación relu.\n",
    "- Una capa de max pooling. \n",
    "- Una capa Flatten de aplanamiento. \n",
    "- Una capa densa con 128 neuronas con activación relu.\n",
    "- Una capa Dropout cde abandono para reducir el sobreajuste con parámetro 0.5. \n",
    "- Una capa densa de salida con activación softmax para 10 categorías.\n",
    "\n",
    "Para la compilación del modelo se usó el optimizador Adam y la pérdida de entropía cruzada categórica. \n",
    "El modelo se entrenó durante 10 épocas con un lote de 64 y con una precisión en el conjunto de validación del 91.21%.\n",
    "La precisión del modelo en el conjunto de prueba fue del 90.48%, lo que indica un buen desempeño general y una capacidad adecuada para generalizar a nuevos datos."
   ]
  },
  {
   "cell_type": "markdown",
   "metadata": {
    "id": "cVAgMpGNqfdH"
   },
   "source": [
    "### 3. Calidad de la predicción (40 puntos)\n",
    "\n",
    "Evalúe el desempeño de su algoritmo con el set de _test_ y argumente sobre el nivel de precisión obtenido, tiempo de ejecución y la arquitectura de su red convolucional."
   ]
  },
  {
   "cell_type": "code",
   "execution_count": 4,
   "metadata": {
    "id": "Hs2D9Gb4qfdH"
   },
   "outputs": [
    {
     "data": {
      "text/plain": [
       "<matplotlib.legend.Legend at 0x16900875d50>"
      ]
     },
     "execution_count": 4,
     "metadata": {},
     "output_type": "execute_result"
    },
    {
     "data": {
      "image/png": "[encoded data removed]",
      "text/plain": [
       "<Figure size 640x480 with 1 Axes>"
      ]
     },
     "metadata": {},
     "output_type": "display_data"
    }
   ],
   "source": [
    "#### Utilicen este espacio para escribir los códigos del procedimiento del punto 3 ####\n",
    "plt.plot(history.history['accuracy'], label='Accuracy')\n",
    "plt.plot(history.history['val_accuracy'], label='Validation Accuracy')\n",
    "plt.title('Training and Validation Accuracy')\n",
    "plt.legend()"
   ]
  },
  {
   "cell_type": "markdown",
   "metadata": {
    "id": "15MukKo4qfdH"
   },
   "source": [
    "(Utilicen este espacio para describir su procedimiento y escribir su análisis y conclusiones sobre el punto 3)\n",
    "\n",
    "**Análisis y conclusiones**\n",
    "- La precisión en el conjunto de prueba fue del 90.48%, lo cual indica un alto nivel de clasificación de imágenes.\n",
    "- Cada época de entrenamiento tomó entre 24 y 27 segundos, el tiempo total de entrenamiento de alrededor de 4 minutos y medio para 10 épocas.\n",
    "- La red neuronal convolucional implementada consta de dos capas convolucionales, dos capas de agrupamiento máximo (MaxPooling), una capa de aplanamiento (Flatten), una capa densa con 128 neuronas, y una capa de salida con activación softmax.\n",
    "- La arquitectura de la red y los parámetros son adecuados para el conjunto de datos, encuentra equilibrio entre la precisión del modelo  el y tiempo de ejecución. La inclusión de la capa de abandono (Dropout) con un valor de 0.5 ayuda a prevenir el sobreajuste.\n"
   ]
  },
  {
   "cell_type": "code",
   "execution_count": null,
   "metadata": {},
   "outputs": [],
   "source": []
  }
 ],
 "metadata": {
  "colab": {
   "provenance": []
  },
  "kernelspec": {
   "display_name": "Python 3 (ipykernel)",
   "language": "python",
   "name": "python3"
  },
  "language_info": {
   "codemirror_mode": {
    "name": "ipython",
    "version": 3
   },
   "file_extension": ".py",
   "mimetype": "text/x-python",
   "name": "python",
   "nbconvert_exporter": "python",
   "pygments_lexer": "ipython3",
   "version": "3.10.9"
  }
 },
 "nbformat": 4,
 "nbformat_minor": 4
}
